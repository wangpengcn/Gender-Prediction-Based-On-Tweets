{
 "cells": [
  {
   "cell_type": "markdown",
   "metadata": {},
   "source": [
    "# Gender Prediction Based On Tweets "
   ]
  },
  {
   "cell_type": "code",
   "execution_count": 1,
   "metadata": {},
   "outputs": [],
   "source": [
    "# Import libraries\n",
    "import pandas as pd\n",
    "import re, os\n",
    "from collections import Counter\n",
    "import nltk\n",
    "from nltk.corpus import stopwords, wordnet \n",
    "from nltk.stem import WordNetLemmatizer\n",
    "from nltk.util import ngrams\n",
    "from sklearn.feature_extraction.text import TfidfTransformer,TfidfVectorizer\n",
    "from sklearn.model_selection import train_test_split\n",
    "from sklearn.linear_model import LogisticRegression\n",
    "from sklearn.metrics import f1_score, confusion_matrix"
   ]
  },
  {
   "cell_type": "code",
   "execution_count": 2,
   "metadata": {},
   "outputs": [],
   "source": [
    "# File paths and names\n",
    "DATA_PATH = r'./data/'\n",
    "TWITTER_ACCOUNTS_FILE = DATA_PATH + 'celebrity_twitter_accounts.csv'\n",
    "TEST_TWITTER_ACCOUNTS_FILE = DATA_PATH + 'twitter_test.csv'\n",
    "ORIG_TWEET_FILE = DATA_PATH + 'all_tweets.json'\n",
    "TEST_TWEET_FILE = DATA_PATH + 'test_tweets.json'"
   ]
  },
  {
   "cell_type": "code",
   "execution_count": 3,
   "metadata": {},
   "outputs": [],
   "source": [
    "additional_stop_words=['twitter','com','via']"
   ]
  },
  {
   "cell_type": "markdown",
   "metadata": {},
   "source": [
    "female: 0, male: 1"
   ]
  },
  {
   "cell_type": "markdown",
   "metadata": {},
   "source": [
    "## Load Training Data"
   ]
  },
  {
   "cell_type": "code",
   "execution_count": 4,
   "metadata": {},
   "outputs": [],
   "source": [
    "# Load training celebrity twitter accounts\n",
    "celebrity_twitter_accounts = pd.read_csv(TWITTER_ACCOUNTS_FILE)"
   ]
  },
  {
   "cell_type": "code",
   "execution_count": 5,
   "metadata": {},
   "outputs": [
    {
     "data": {
      "text/plain": [
       "37"
      ]
     },
     "execution_count": 5,
     "metadata": {},
     "output_type": "execute_result"
    }
   ],
   "source": [
    "# Number of twitter accounts\n",
    "celebrity_twitter_accounts.shape[0]"
   ]
  },
  {
   "cell_type": "code",
   "execution_count": 6,
   "metadata": {
    "scrolled": false
   },
   "outputs": [
    {
     "data": {
      "text/html": [
       "<div>\n",
       "<style scoped>\n",
       "    .dataframe tbody tr th:only-of-type {\n",
       "        vertical-align: middle;\n",
       "    }\n",
       "\n",
       "    .dataframe tbody tr th {\n",
       "        vertical-align: top;\n",
       "    }\n",
       "\n",
       "    .dataframe thead th {\n",
       "        text-align: right;\n",
       "    }\n",
       "</style>\n",
       "<table border=\"1\" class=\"dataframe\">\n",
       "  <thead>\n",
       "    <tr style=\"text-align: right;\">\n",
       "      <th></th>\n",
       "      <th>screenname</th>\n",
       "      <th>name</th>\n",
       "      <th>followers_in_millions</th>\n",
       "      <th>gender</th>\n",
       "    </tr>\n",
       "  </thead>\n",
       "  <tbody>\n",
       "    <tr>\n",
       "      <th>0</th>\n",
       "      <td>BarackObama</td>\n",
       "      <td>Barack Obama</td>\n",
       "      <td>122</td>\n",
       "      <td>male</td>\n",
       "    </tr>\n",
       "    <tr>\n",
       "      <th>1</th>\n",
       "      <td>justinbieber</td>\n",
       "      <td>Justin Bieber</td>\n",
       "      <td>112</td>\n",
       "      <td>male</td>\n",
       "    </tr>\n",
       "    <tr>\n",
       "      <th>2</th>\n",
       "      <td>katyperry</td>\n",
       "      <td>Katy Perry</td>\n",
       "      <td>108</td>\n",
       "      <td>female</td>\n",
       "    </tr>\n",
       "    <tr>\n",
       "      <th>3</th>\n",
       "      <td>rihanna</td>\n",
       "      <td>Rihanna</td>\n",
       "      <td>98</td>\n",
       "      <td>female</td>\n",
       "    </tr>\n",
       "    <tr>\n",
       "      <th>4</th>\n",
       "      <td>Cristiano</td>\n",
       "      <td>Cristiano Ronaldo</td>\n",
       "      <td>88</td>\n",
       "      <td>male</td>\n",
       "    </tr>\n",
       "  </tbody>\n",
       "</table>\n",
       "</div>"
      ],
      "text/plain": [
       "     screenname               name  followers_in_millions  gender\n",
       "0   BarackObama       Barack Obama                    122    male\n",
       "1  justinbieber      Justin Bieber                    112    male\n",
       "2     katyperry         Katy Perry                    108  female\n",
       "3       rihanna            Rihanna                     98  female\n",
       "4     Cristiano  Cristiano Ronaldo                     88    male"
      ]
     },
     "execution_count": 6,
     "metadata": {},
     "output_type": "execute_result"
    }
   ],
   "source": [
    "celebrity_twitter_accounts.head(5)"
   ]
  },
  {
   "cell_type": "code",
   "execution_count": 7,
   "metadata": {},
   "outputs": [],
   "source": [
    "# Load tweets for training\n",
    "all_tweets_df = pd.read_json(ORIG_TWEET_FILE)"
   ]
  },
  {
   "cell_type": "code",
   "execution_count": 11,
   "metadata": {},
   "outputs": [
    {
     "data": {
      "text/plain": [
       "23454"
      ]
     },
     "execution_count": 11,
     "metadata": {},
     "output_type": "execute_result"
    }
   ],
   "source": [
    "# Number of tweets\n",
    "all_tweets_df.shape[0]"
   ]
  },
  {
   "cell_type": "code",
   "execution_count": 12,
   "metadata": {},
   "outputs": [
    {
     "data": {
      "text/plain": [
       "female    0.495864\n",
       "male      0.504136\n",
       "Name: gender, dtype: float64"
      ]
     },
     "execution_count": 12,
     "metadata": {},
     "output_type": "execute_result"
    }
   ],
   "source": [
    "# Male-Female ratio\n",
    "all_tweets_df.gender.value_counts(normalize=True, sort=False)"
   ]
  },
  {
   "cell_type": "markdown",
   "metadata": {},
   "source": [
    "## Text Preprocessing"
   ]
  },
  {
   "cell_type": "code",
   "execution_count": 13,
   "metadata": {},
   "outputs": [],
   "source": [
    "def get_wordnet_pos(word):\n",
    "    \"\"\"\n",
    "    Map POS tag to first character lemmatize() accepts\n",
    "    \"\"\"\n",
    "    tag = nltk.pos_tag([word])[0][1][0].upper()\n",
    "    tag_dict = {\"J\": wordnet.ADJ,\n",
    "                \"N\": wordnet.NOUN,\n",
    "                \"V\": wordnet.VERB,\n",
    "                \"R\": wordnet.ADV}\n",
    "\n",
    "    return tag_dict.get(tag, wordnet.NOUN)\n",
    "\n",
    "def text_cleanup(text):  \n",
    "    '''\n",
    "    Text pre-processing\n",
    "        return tokenized list of cleaned words\n",
    "    '''\n",
    "    # Convert to lowercase\n",
    "    text_clean = text.lower()\n",
    "    # Remove non-alphabet\n",
    "    text_clean = re.sub(r'[^a-zA-Z]|(\\w+:\\/\\/\\S+)',' ', text_clean).split()    \n",
    "    # Remove short words (length < 3)\n",
    "    text_clean = [w for w in text_clean if len(w)>2]\n",
    "    # Lemmatize text with the appropriate POS tag\n",
    "    lemmatizer = WordNetLemmatizer()\n",
    "    text_clean = [lemmatizer.lemmatize(w, get_wordnet_pos(w)) for w in text_clean]\n",
    "    # Filter out stop words in English \n",
    "    stops = set(stopwords.words('english')).union(additional_stop_words)\n",
    "    text_clean = ' '.join([w for w in text_clean if w not in stops])\n",
    "    \n",
    "    return text_clean"
   ]
  },
  {
   "cell_type": "code",
   "execution_count": 14,
   "metadata": {},
   "outputs": [],
   "source": [
    "# Preprocess tweets\n",
    "all_tweets_df['token'] = [text_cleanup(x) for x in all_tweets_df['text']] \n",
    "# Only take processed tweets that have more than 20 characters (too short tweet has little meaning)\n",
    "tweets = all_tweets_df[all_tweets_df['token'].apply(len)>20]\n",
    "tweets = tweets.reset_index(drop=True)"
   ]
  },
  {
   "cell_type": "code",
   "execution_count": 15,
   "metadata": {},
   "outputs": [
    {
     "data": {
      "text/html": [
       "<div>\n",
       "<style scoped>\n",
       "    .dataframe tbody tr th:only-of-type {\n",
       "        vertical-align: middle;\n",
       "    }\n",
       "\n",
       "    .dataframe tbody tr th {\n",
       "        vertical-align: top;\n",
       "    }\n",
       "\n",
       "    .dataframe thead th {\n",
       "        text-align: right;\n",
       "    }\n",
       "</style>\n",
       "<table border=\"1\" class=\"dataframe\">\n",
       "  <thead>\n",
       "    <tr style=\"text-align: right;\">\n",
       "      <th></th>\n",
       "      <th>screenname</th>\n",
       "      <th>text</th>\n",
       "      <th>name</th>\n",
       "      <th>gender</th>\n",
       "      <th>token</th>\n",
       "    </tr>\n",
       "  </thead>\n",
       "  <tbody>\n",
       "    <tr>\n",
       "      <th>11365</th>\n",
       "      <td>Simone_Biles</td>\n",
       "      <td>wish I could turn my thoughts off so I could g...</td>\n",
       "      <td>Simone Biles</td>\n",
       "      <td>female</td>\n",
       "      <td>wish could turn thought could sleep already</td>\n",
       "    </tr>\n",
       "    <tr>\n",
       "      <th>60</th>\n",
       "      <td>justinbieber</td>\n",
       "      <td>some will hate....more will want to love. Lett...</td>\n",
       "      <td>Justin Bieber</td>\n",
       "      <td>male</td>\n",
       "      <td>hate want love let love ignore hate keep positive</td>\n",
       "    </tr>\n",
       "    <tr>\n",
       "      <th>10827</th>\n",
       "      <td>serenawilliams</td>\n",
       "      <td>@celebsdontreply. Of course, I reply.</td>\n",
       "      <td>Serena Williams</td>\n",
       "      <td>female</td>\n",
       "      <td>celebsdontreply course reply</td>\n",
       "    </tr>\n",
       "    <tr>\n",
       "      <th>18066</th>\n",
       "      <td>BillGates</td>\n",
       "      <td>Everyone should know about the #MDGs, 8 goals ...</td>\n",
       "      <td>Bill Gates</td>\n",
       "      <td>male</td>\n",
       "      <td>everyone know mdgs goal revolutionize fight po...</td>\n",
       "    </tr>\n",
       "    <tr>\n",
       "      <th>3081</th>\n",
       "      <td>HillaryClinton</td>\n",
       "      <td>Bill and I were saddened to hear of the passin...</td>\n",
       "      <td>Hillary Clinton</td>\n",
       "      <td>female</td>\n",
       "      <td>bill sadden hear passing wilson roosevelt jerm...</td>\n",
       "    </tr>\n",
       "  </tbody>\n",
       "</table>\n",
       "</div>"
      ],
      "text/plain": [
       "           screenname                                               text  \\\n",
       "11365    Simone_Biles  wish I could turn my thoughts off so I could g...   \n",
       "60       justinbieber  some will hate....more will want to love. Lett...   \n",
       "10827  serenawilliams              @celebsdontreply. Of course, I reply.   \n",
       "18066       BillGates  Everyone should know about the #MDGs, 8 goals ...   \n",
       "3081   HillaryClinton  Bill and I were saddened to hear of the passin...   \n",
       "\n",
       "                  name  gender  \\\n",
       "11365     Simone Biles  female   \n",
       "60       Justin Bieber    male   \n",
       "10827  Serena Williams  female   \n",
       "18066       Bill Gates    male   \n",
       "3081   Hillary Clinton  female   \n",
       "\n",
       "                                                   token  \n",
       "11365        wish could turn thought could sleep already  \n",
       "60     hate want love let love ignore hate keep positive  \n",
       "10827                       celebsdontreply course reply  \n",
       "18066  everyone know mdgs goal revolutionize fight po...  \n",
       "3081   bill sadden hear passing wilson roosevelt jerm...  "
      ]
     },
     "execution_count": 15,
     "metadata": {},
     "output_type": "execute_result"
    }
   ],
   "source": [
    "tweets.sample(n=5, random_state=11)"
   ]
  },
  {
   "cell_type": "code",
   "execution_count": 16,
   "metadata": {},
   "outputs": [
    {
     "data": {
      "text/plain": [
       "19663"
      ]
     },
     "execution_count": 16,
     "metadata": {},
     "output_type": "execute_result"
    }
   ],
   "source": [
    "# Number of tweets after preprocessing\n",
    "tweets.shape[0]"
   ]
  },
  {
   "cell_type": "code",
   "execution_count": 17,
   "metadata": {},
   "outputs": [
    {
     "data": {
      "text/plain": [
       "female    0.496313\n",
       "male      0.503687\n",
       "Name: gender, dtype: float64"
      ]
     },
     "execution_count": 17,
     "metadata": {},
     "output_type": "execute_result"
    }
   ],
   "source": [
    "# Male-Female ratio\n",
    "tweets.gender.value_counts(normalize=True, sort=False)"
   ]
  },
  {
   "cell_type": "markdown",
   "metadata": {},
   "source": [
    "## Training Logistic Regression Using TF-IDF Features"
   ]
  },
  {
   "cell_type": "code",
   "execution_count": 18,
   "metadata": {},
   "outputs": [],
   "source": [
    "# Term Frequency-Inverse Document Frequency (TF-IDF) features\n",
    "text_transformer = TfidfVectorizer()\n",
    "X = text_transformer.fit_transform(tweets['token'])\n",
    "y = tweets['gender']"
   ]
  },
  {
   "cell_type": "code",
   "execution_count": 37,
   "metadata": {},
   "outputs": [],
   "source": [
    "# Splitting data into training and validation set\n",
    "X_train, X_val, y_train, y_val = train_test_split(X, y, test_size=0.2, stratify=y, random_state=39)"
   ]
  },
  {
   "cell_type": "code",
   "execution_count": 38,
   "metadata": {},
   "outputs": [
    {
     "data": {
      "text/plain": [
       "LogisticRegression(C=1.0, class_weight=None, dual=False, fit_intercept=True,\n",
       "                   intercept_scaling=1, l1_ratio=None, max_iter=100,\n",
       "                   multi_class='auto', n_jobs=None, penalty='l2',\n",
       "                   random_state=None, solver='lbfgs', tol=0.0001, verbose=0,\n",
       "                   warm_start=False)"
      ]
     },
     "execution_count": 38,
     "metadata": {},
     "output_type": "execute_result"
    }
   ],
   "source": [
    "# Train using Logistic Regression\n",
    "logreg = LogisticRegression()\n",
    "logreg.fit(X_train, y_train)"
   ]
  },
  {
   "cell_type": "code",
   "execution_count": 39,
   "metadata": {},
   "outputs": [],
   "source": [
    "# Validation result\n",
    "y_val_pred = logreg.predict(X_val)"
   ]
  },
  {
   "cell_type": "code",
   "execution_count": 40,
   "metadata": {},
   "outputs": [
    {
     "data": {
      "text/plain": [
       "array([[1539,  413],\n",
       "       [ 492, 1489]], dtype=int64)"
      ]
     },
     "execution_count": 40,
     "metadata": {},
     "output_type": "execute_result"
    }
   ],
   "source": [
    "confusion_matrix(y_val, y_val_pred)"
   ]
  },
  {
   "cell_type": "code",
   "execution_count": 41,
   "metadata": {},
   "outputs": [
    {
     "data": {
      "text/plain": [
       "0.7698957538774472"
      ]
     },
     "execution_count": 41,
     "metadata": {},
     "output_type": "execute_result"
    }
   ],
   "source": [
    "f1_score(y_val, y_val_pred, average='micro')"
   ]
  },
  {
   "cell_type": "markdown",
   "metadata": {},
   "source": [
    "## Gender Prediction On Test Data"
   ]
  },
  {
   "cell_type": "code",
   "execution_count": 24,
   "metadata": {},
   "outputs": [],
   "source": [
    "# Import test twitter account\n",
    "test_twitter_accounts = pd.read_csv(r'./data/twitter_test.csv')"
   ]
  },
  {
   "cell_type": "code",
   "execution_count": 25,
   "metadata": {},
   "outputs": [
    {
     "data": {
      "text/html": [
       "<div>\n",
       "<style scoped>\n",
       "    .dataframe tbody tr th:only-of-type {\n",
       "        vertical-align: middle;\n",
       "    }\n",
       "\n",
       "    .dataframe tbody tr th {\n",
       "        vertical-align: top;\n",
       "    }\n",
       "\n",
       "    .dataframe thead th {\n",
       "        text-align: right;\n",
       "    }\n",
       "</style>\n",
       "<table border=\"1\" class=\"dataframe\">\n",
       "  <thead>\n",
       "    <tr style=\"text-align: right;\">\n",
       "      <th></th>\n",
       "      <th>screenname</th>\n",
       "      <th>name</th>\n",
       "      <th>gender</th>\n",
       "    </tr>\n",
       "  </thead>\n",
       "  <tbody>\n",
       "    <tr>\n",
       "      <th>0</th>\n",
       "      <td>StephenCurry30</td>\n",
       "      <td>Stephen Curry</td>\n",
       "      <td>male</td>\n",
       "    </tr>\n",
       "    <tr>\n",
       "      <th>1</th>\n",
       "      <td>BarbaraCorcoran</td>\n",
       "      <td>Barbara Corcoran</td>\n",
       "      <td>female</td>\n",
       "    </tr>\n",
       "    <tr>\n",
       "      <th>2</th>\n",
       "      <td>DUALIPA</td>\n",
       "      <td>DUALIPA</td>\n",
       "      <td>female</td>\n",
       "    </tr>\n",
       "    <tr>\n",
       "      <th>3</th>\n",
       "      <td>Mike_Pence</td>\n",
       "      <td>Mike Pence</td>\n",
       "      <td>male</td>\n",
       "    </tr>\n",
       "  </tbody>\n",
       "</table>\n",
       "</div>"
      ],
      "text/plain": [
       "        screenname              name  gender\n",
       "0   StephenCurry30     Stephen Curry    male\n",
       "1  BarbaraCorcoran  Barbara Corcoran  female\n",
       "2          DUALIPA           DUALIPA  female\n",
       "3       Mike_Pence        Mike Pence    male"
      ]
     },
     "execution_count": 25,
     "metadata": {},
     "output_type": "execute_result"
    }
   ],
   "source": [
    "test_twitter_accounts.head()"
   ]
  },
  {
   "cell_type": "code",
   "execution_count": 51,
   "metadata": {},
   "outputs": [],
   "source": [
    "# Load test tweets\n",
    "test_tweets_df = pd.read_json(TEST_TWEET_FILE)"
   ]
  },
  {
   "cell_type": "code",
   "execution_count": 52,
   "metadata": {},
   "outputs": [],
   "source": [
    "# Preprocess tweets\n",
    "test_tweets_df['token'] = [text_cleanup(x) for x in test_tweets_df['text']] \n",
    "test_tweets = test_tweets_df[test_tweets_df['token'].apply(len)>20]\n",
    "test_tweets = test_tweets.reset_index(drop=True)"
   ]
  },
  {
   "cell_type": "code",
   "execution_count": 53,
   "metadata": {},
   "outputs": [
    {
     "data": {
      "text/plain": [
       "208"
      ]
     },
     "execution_count": 53,
     "metadata": {},
     "output_type": "execute_result"
    }
   ],
   "source": [
    "# Number of test tweets\n",
    "test_tweets.shape[0]"
   ]
  },
  {
   "cell_type": "code",
   "execution_count": 54,
   "metadata": {},
   "outputs": [
    {
     "data": {
      "text/plain": [
       "female    0.504808\n",
       "male      0.495192\n",
       "Name: gender, dtype: float64"
      ]
     },
     "execution_count": 54,
     "metadata": {},
     "output_type": "execute_result"
    }
   ],
   "source": [
    "# Male-Female ratio\n",
    "test_tweets.gender.value_counts(normalize=True, sort=False)"
   ]
  },
  {
   "cell_type": "code",
   "execution_count": 55,
   "metadata": {},
   "outputs": [],
   "source": [
    "# TF-IDF features\n",
    "bow = text_transformer.transform(test_tweets['token'])\n",
    "df_bow_test = pd.DataFrame(bow.todense(), columns=text_transformer.get_feature_names())"
   ]
  },
  {
   "cell_type": "code",
   "execution_count": 56,
   "metadata": {},
   "outputs": [],
   "source": [
    "# Predict probability\n",
    "pred_prob = pd.DataFrame(logreg.predict_proba(df_bow_test))\n",
    "# Predict classification\n",
    "pred = pd.DataFrame(data=logreg.predict(df_bow_test), columns=['pred'])\n",
    "# Merge into the same DataFrame\n",
    "result = pd.concat([test_tweets, pred, pred_prob], axis=1, sort=False)"
   ]
  },
  {
   "cell_type": "code",
   "execution_count": 57,
   "metadata": {},
   "outputs": [
    {
     "data": {
      "text/plain": [
       "array([[58, 47],\n",
       "       [38, 65]], dtype=int64)"
      ]
     },
     "execution_count": 57,
     "metadata": {},
     "output_type": "execute_result"
    }
   ],
   "source": [
    "# Prediction performance\n",
    "confusion_matrix(test_tweets.gender, pred)"
   ]
  },
  {
   "cell_type": "code",
   "execution_count": 58,
   "metadata": {},
   "outputs": [
    {
     "data": {
      "text/plain": [
       "0.5913461538461539"
      ]
     },
     "execution_count": 58,
     "metadata": {},
     "output_type": "execute_result"
    }
   ],
   "source": [
    "f1_score(test_tweets.gender, pred, average='micro')"
   ]
  },
  {
   "cell_type": "code",
   "execution_count": 63,
   "metadata": {},
   "outputs": [
    {
     "data": {
      "text/html": [
       "<div>\n",
       "<style scoped>\n",
       "    .dataframe tbody tr th:only-of-type {\n",
       "        vertical-align: middle;\n",
       "    }\n",
       "\n",
       "    .dataframe tbody tr th {\n",
       "        vertical-align: top;\n",
       "    }\n",
       "\n",
       "    .dataframe thead th {\n",
       "        text-align: right;\n",
       "    }\n",
       "</style>\n",
       "<table border=\"1\" class=\"dataframe\">\n",
       "  <thead>\n",
       "    <tr style=\"text-align: right;\">\n",
       "      <th></th>\n",
       "      <th>screenname</th>\n",
       "      <th>text</th>\n",
       "      <th>name</th>\n",
       "      <th>gender</th>\n",
       "      <th>token</th>\n",
       "      <th>pred</th>\n",
       "      <th>0</th>\n",
       "      <th>1</th>\n",
       "    </tr>\n",
       "  </thead>\n",
       "  <tbody>\n",
       "    <tr>\n",
       "      <th>161</th>\n",
       "      <td>BarbaraCorcoran</td>\n",
       "      <td>All new #BusinessUnusual #podcast episode! I'm...</td>\n",
       "      <td>Barbara Corcoran</td>\n",
       "      <td>female</td>\n",
       "      <td>new businessunusual podcast episode share top ...</td>\n",
       "      <td>female</td>\n",
       "      <td>0.585550</td>\n",
       "      <td>0.414450</td>\n",
       "    </tr>\n",
       "    <tr>\n",
       "      <th>15</th>\n",
       "      <td>DUALIPA</td>\n",
       "      <td>OVER 2 BILLION STREAMS ON MY BABY FUTURE NOSTA...</td>\n",
       "      <td>DUALIPA</td>\n",
       "      <td>female</td>\n",
       "      <td>billion stream baby future nostalgia month old...</td>\n",
       "      <td>female</td>\n",
       "      <td>0.519296</td>\n",
       "      <td>0.480704</td>\n",
       "    </tr>\n",
       "    <tr>\n",
       "      <th>73</th>\n",
       "      <td>StephenCurry30</td>\n",
       "      <td>Grab your 🍿 and 👀 the #UltimateHomeChampionshi...</td>\n",
       "      <td>Stephen Curry</td>\n",
       "      <td>male</td>\n",
       "      <td>grab ultimatehomechampionship stream free youtube</td>\n",
       "      <td>male</td>\n",
       "      <td>0.326881</td>\n",
       "      <td>0.673119</td>\n",
       "    </tr>\n",
       "    <tr>\n",
       "      <th>96</th>\n",
       "      <td>StephenCurry30</td>\n",
       "      <td>That was about as many minutes as we played th...</td>\n",
       "      <td>Stephen Curry</td>\n",
       "      <td>male</td>\n",
       "      <td>many minute played year klaythompson</td>\n",
       "      <td>male</td>\n",
       "      <td>0.409329</td>\n",
       "      <td>0.590671</td>\n",
       "    </tr>\n",
       "    <tr>\n",
       "      <th>166</th>\n",
       "      <td>StephenCurry30</td>\n",
       "      <td>Make sure you challenge yourself! Not every dr...</td>\n",
       "      <td>Stephen Curry</td>\n",
       "      <td>male</td>\n",
       "      <td>make sure challenge every drill gonna pretty s...</td>\n",
       "      <td>male</td>\n",
       "      <td>0.368265</td>\n",
       "      <td>0.631735</td>\n",
       "    </tr>\n",
       "    <tr>\n",
       "      <th>9</th>\n",
       "      <td>DUALIPA</td>\n",
       "      <td>Lebanon is on its knees and needs us more than...</td>\n",
       "      <td>DUALIPA</td>\n",
       "      <td>female</td>\n",
       "      <td>lebanon knee need ever yesterday explosion bei...</td>\n",
       "      <td>female</td>\n",
       "      <td>0.702905</td>\n",
       "      <td>0.297095</td>\n",
       "    </tr>\n",
       "    <tr>\n",
       "      <th>100</th>\n",
       "      <td>StephenCurry30</td>\n",
       "      <td>Praying for you and your entire family @KarlTo...</td>\n",
       "      <td>Stephen Curry</td>\n",
       "      <td>male</td>\n",
       "      <td>pray entire family karltowns aint word man sorry</td>\n",
       "      <td>male</td>\n",
       "      <td>0.395304</td>\n",
       "      <td>0.604696</td>\n",
       "    </tr>\n",
       "    <tr>\n",
       "      <th>135</th>\n",
       "      <td>BarbaraCorcoran</td>\n",
       "      <td>The best thing about all of us wrestling throu...</td>\n",
       "      <td>Barbara Corcoran</td>\n",
       "      <td>female</td>\n",
       "      <td>best thing wrestling terrible chapter give pau...</td>\n",
       "      <td>female</td>\n",
       "      <td>0.500326</td>\n",
       "      <td>0.499674</td>\n",
       "    </tr>\n",
       "    <tr>\n",
       "      <th>18</th>\n",
       "      <td>DUALIPA</td>\n",
       "      <td>cinnamon toast crunch https://t.co/cG2mhk6rdT</td>\n",
       "      <td>DUALIPA</td>\n",
       "      <td>female</td>\n",
       "      <td>cinnamon toast crunch</td>\n",
       "      <td>female</td>\n",
       "      <td>0.642780</td>\n",
       "      <td>0.357220</td>\n",
       "    </tr>\n",
       "    <tr>\n",
       "      <th>148</th>\n",
       "      <td>BarbaraCorcoran</td>\n",
       "      <td>Check out the toughest tasks first. I've learn...</td>\n",
       "      <td>Barbara Corcoran</td>\n",
       "      <td>female</td>\n",
       "      <td>check toughest task first learn confront afrai...</td>\n",
       "      <td>male</td>\n",
       "      <td>0.418067</td>\n",
       "      <td>0.581933</td>\n",
       "    </tr>\n",
       "  </tbody>\n",
       "</table>\n",
       "</div>"
      ],
      "text/plain": [
       "          screenname                                               text  \\\n",
       "161  BarbaraCorcoran  All new #BusinessUnusual #podcast episode! I'm...   \n",
       "15           DUALIPA  OVER 2 BILLION STREAMS ON MY BABY FUTURE NOSTA...   \n",
       "73    StephenCurry30  Grab your 🍿 and 👀 the #UltimateHomeChampionshi...   \n",
       "96    StephenCurry30  That was about as many minutes as we played th...   \n",
       "166   StephenCurry30  Make sure you challenge yourself! Not every dr...   \n",
       "9            DUALIPA  Lebanon is on its knees and needs us more than...   \n",
       "100   StephenCurry30  Praying for you and your entire family @KarlTo...   \n",
       "135  BarbaraCorcoran  The best thing about all of us wrestling throu...   \n",
       "18           DUALIPA      cinnamon toast crunch https://t.co/cG2mhk6rdT   \n",
       "148  BarbaraCorcoran  Check out the toughest tasks first. I've learn...   \n",
       "\n",
       "                 name  gender  \\\n",
       "161  Barbara Corcoran  female   \n",
       "15            DUALIPA  female   \n",
       "73      Stephen Curry    male   \n",
       "96      Stephen Curry    male   \n",
       "166     Stephen Curry    male   \n",
       "9             DUALIPA  female   \n",
       "100     Stephen Curry    male   \n",
       "135  Barbara Corcoran  female   \n",
       "18            DUALIPA  female   \n",
       "148  Barbara Corcoran  female   \n",
       "\n",
       "                                                 token    pred         0  \\\n",
       "161  new businessunusual podcast episode share top ...  female  0.585550   \n",
       "15   billion stream baby future nostalgia month old...  female  0.519296   \n",
       "73   grab ultimatehomechampionship stream free youtube    male  0.326881   \n",
       "96                many minute played year klaythompson    male  0.409329   \n",
       "166  make sure challenge every drill gonna pretty s...    male  0.368265   \n",
       "9    lebanon knee need ever yesterday explosion bei...  female  0.702905   \n",
       "100   pray entire family karltowns aint word man sorry    male  0.395304   \n",
       "135  best thing wrestling terrible chapter give pau...  female  0.500326   \n",
       "18                               cinnamon toast crunch  female  0.642780   \n",
       "148  check toughest task first learn confront afrai...    male  0.418067   \n",
       "\n",
       "            1  \n",
       "161  0.414450  \n",
       "15   0.480704  \n",
       "73   0.673119  \n",
       "96   0.590671  \n",
       "166  0.631735  \n",
       "9    0.297095  \n",
       "100  0.604696  \n",
       "135  0.499674  \n",
       "18   0.357220  \n",
       "148  0.581933  "
      ]
     },
     "execution_count": 63,
     "metadata": {},
     "output_type": "execute_result"
    }
   ],
   "source": [
    "result.sample(n=10, random_state=42)"
   ]
  },
  {
   "cell_type": "markdown",
   "metadata": {},
   "source": [
    "Predict a person's gender by aggregating all predictions for same twitter account"
   ]
  },
  {
   "cell_type": "code",
   "execution_count": 67,
   "metadata": {},
   "outputs": [],
   "source": [
    "result_count = result.groupby(['screenname','pred'], as_index=False)['token'].count().max(level=0)\n",
    "result_count = result_count.iloc[result_count.groupby('screenname').token.idxmax()].reset_index(drop=True)"
   ]
  },
  {
   "cell_type": "code",
   "execution_count": 68,
   "metadata": {},
   "outputs": [
    {
     "data": {
      "text/html": [
       "<div>\n",
       "<style scoped>\n",
       "    .dataframe tbody tr th:only-of-type {\n",
       "        vertical-align: middle;\n",
       "    }\n",
       "\n",
       "    .dataframe tbody tr th {\n",
       "        vertical-align: top;\n",
       "    }\n",
       "\n",
       "    .dataframe thead th {\n",
       "        text-align: right;\n",
       "    }\n",
       "</style>\n",
       "<table border=\"1\" class=\"dataframe\">\n",
       "  <thead>\n",
       "    <tr style=\"text-align: right;\">\n",
       "      <th></th>\n",
       "      <th>gender</th>\n",
       "      <th>pred</th>\n",
       "    </tr>\n",
       "    <tr>\n",
       "      <th>screenname</th>\n",
       "      <th></th>\n",
       "      <th></th>\n",
       "    </tr>\n",
       "  </thead>\n",
       "  <tbody>\n",
       "    <tr>\n",
       "      <th>StephenCurry30</th>\n",
       "      <td>male</td>\n",
       "      <td>male</td>\n",
       "    </tr>\n",
       "    <tr>\n",
       "      <th>BarbaraCorcoran</th>\n",
       "      <td>female</td>\n",
       "      <td>male</td>\n",
       "    </tr>\n",
       "    <tr>\n",
       "      <th>DUALIPA</th>\n",
       "      <td>female</td>\n",
       "      <td>female</td>\n",
       "    </tr>\n",
       "    <tr>\n",
       "      <th>Mike_Pence</th>\n",
       "      <td>male</td>\n",
       "      <td>male</td>\n",
       "    </tr>\n",
       "  </tbody>\n",
       "</table>\n",
       "</div>"
      ],
      "text/plain": [
       "                 gender    pred\n",
       "screenname                     \n",
       "StephenCurry30     male    male\n",
       "BarbaraCorcoran  female    male\n",
       "DUALIPA          female  female\n",
       "Mike_Pence         male    male"
      ]
     },
     "execution_count": 68,
     "metadata": {},
     "output_type": "execute_result"
    }
   ],
   "source": [
    "pred_per_person = test_twitter_accounts.set_index(\"screenname\").join(result_count.set_index(\"screenname\"))\n",
    "pred_per_person[[\"gender\", \"pred\"]]"
   ]
  },
  {
   "cell_type": "code",
   "execution_count": null,
   "metadata": {},
   "outputs": [],
   "source": []
  }
 ],
 "metadata": {
  "kernelspec": {
   "display_name": "Python 3",
   "language": "python",
   "name": "python3"
  },
  "language_info": {
   "codemirror_mode": {
    "name": "ipython",
    "version": 3
   },
   "file_extension": ".py",
   "mimetype": "text/x-python",
   "name": "python",
   "nbconvert_exporter": "python",
   "pygments_lexer": "ipython3",
   "version": "3.6.7"
  }
 },
 "nbformat": 4,
 "nbformat_minor": 2
}
